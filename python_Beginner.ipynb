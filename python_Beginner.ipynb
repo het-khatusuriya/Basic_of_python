{
  "nbformat": 4,
  "nbformat_minor": 0,
  "metadata": {
    "colab": {
      "provenance": [],
      "authorship_tag": "ABX9TyPJZnETg4tTx+yzMNuqM2+d",
      "include_colab_link": true
    },
    "kernelspec": {
      "name": "python3",
      "display_name": "Python 3"
    },
    "language_info": {
      "name": "python"
    }
  },
  "cells": [
    {
      "cell_type": "markdown",
      "metadata": {
        "id": "view-in-github",
        "colab_type": "text"
      },
      "source": [
        "<a href=\"https://colab.research.google.com/github/het-khatusuriya/Basic_of_python/blob/main/python_Beginner.ipynb\" target=\"_parent\"><img src=\"https://colab.research.google.com/assets/colab-badge.svg\" alt=\"Open In Colab\"/></a>"
      ]
    },
    {
      "cell_type": "markdown",
      "source": [
        "Youtube Playlist followed: https://www.youtube.com/watch?v=YYXdXT2l-Gg&list=PL-osiE80TeTt2d9bfVyTiXJA-UTHn6WwU&ab_channel=CoreySchafer\n",
        "\n",
        "Main following:\n",
        "https://www.youtube.com/watch?v=Ca5DLSDfPec&list=PLu71SKxNbfoBsMugTFALhdLlZ5VOqCg2s&ab_channel=ChaiaurCode"
      ],
      "metadata": {
        "id": "Y3Q1_cTdgTlC"
      }
    },
    {
      "cell_type": "markdown",
      "source": [
        "Video-1 Installaing Python"
      ],
      "metadata": {
        "id": "d1hqdUSYggDE"
      }
    },
    {
      "cell_type": "code",
      "source": [],
      "metadata": {
        "id": "YxJSFakqk-up"
      },
      "execution_count": null,
      "outputs": []
    },
    {
      "cell_type": "code",
      "source": [
        "print('hello world')\n",
        "#inline comment\n"
      ],
      "metadata": {
        "colab": {
          "base_uri": "https://localhost:8080/"
        },
        "id": "8xmARmBdhDJO",
        "outputId": "ce4280dc-4dff-4571-abd0-1ea73d6a3e43"
      },
      "execution_count": 3,
      "outputs": [
        {
          "output_type": "stream",
          "name": "stdout",
          "text": [
            "hello world\n"
          ]
        }
      ]
    },
    {
      "cell_type": "markdown",
      "source": [
        "video-2 use of variable"
      ],
      "metadata": {
        "id": "a0YHE5cUhk0O"
      }
    },
    {
      "cell_type": "code",
      "source": [
        "message  ='hello world'\n",
        "print(message)\n",
        "\n",
        "\n",
        "m = \" hello word\"\n",
        "print(m)\n",
        "\n",
        "me = \"\"\" three quotes is used\n",
        "\n",
        "to print same paragraph content\"\"\"\n",
        "\n",
        "print(me)"
      ],
      "metadata": {
        "colab": {
          "base_uri": "https://localhost:8080/"
        },
        "id": "y8qmpOJJhw97",
        "outputId": "01c5190d-2294-4b7d-8b87-c7f286980b7b"
      },
      "execution_count": 13,
      "outputs": [
        {
          "output_type": "stream",
          "name": "stdout",
          "text": [
            "hello world\n",
            " hello word\n",
            " three quotes is used\n",
            "\n",
            "to print same paragraph content\n"
          ]
        }
      ]
    },
    {
      "cell_type": "code",
      "source": [
        "message = \"hello world\"\n",
        "print(len(message))\n",
        "print(message[0])\n",
        "print(message[0:5])\n",
        "print(message[:5])\n",
        "print(message[6:])\n"
      ],
      "metadata": {
        "colab": {
          "base_uri": "https://localhost:8080/"
        },
        "id": "Sn21n0_FiSI8",
        "outputId": "f414d6f0-f5ef-4272-d0f4-2f867b42b452"
      },
      "execution_count": 15,
      "outputs": [
        {
          "output_type": "stream",
          "name": "stdout",
          "text": [
            "11\n",
            "h\n",
            "hello\n",
            "hello\n",
            "world\n"
          ]
        }
      ]
    },
    {
      "cell_type": "code",
      "source": [
        "def fun(n):\n",
        "    print(n)\n",
        "\n",
        "fun(7)\n",
        "fun(\"chai\")"
      ],
      "metadata": {
        "colab": {
          "base_uri": "https://localhost:8080/"
        },
        "id": "skd1d4rzk_k0",
        "outputId": "99f3389e-b7fb-42c6-a6a1-9551896863e8"
      },
      "execution_count": 20,
      "outputs": [
        {
          "output_type": "stream",
          "name": "stdout",
          "text": [
            "7\n",
            "chai\n"
          ]
        }
      ]
    },
    {
      "cell_type": "code",
      "source": [
        "# we can also write code that helps to inport us code from other files\n",
        "\n",
        "# file -1 name: helloworld.py\n",
        "\n",
        "# code:\n",
        "def fun(n):\n",
        "    print(n)\n"
      ],
      "metadata": {
        "id": "Zqcr0GKrlSG1"
      },
      "execution_count": 23,
      "outputs": []
    },
    {
      "cell_type": "code",
      "source": [
        "# file -2\n",
        "\n",
        "from  helloworld import fun\n",
        "\n",
        "fun(7)\n",
        "fun(\"chai\")"
      ],
      "metadata": {
        "colab": {
          "base_uri": "https://localhost:8080/",
          "height": 211
        },
        "collapsed": true,
        "id": "_XZRAzXXllSk",
        "outputId": "a6e1a625-cb53-4cb2-fbd7-239ecb3225b9"
      },
      "execution_count": 24,
      "outputs": [
        {
          "output_type": "error",
          "ename": "NameError",
          "evalue": "name 'file' is not defined",
          "traceback": [
            "\u001b[0;31m---------------------------------------------------------------------------\u001b[0m",
            "\u001b[0;31mNameError\u001b[0m                                 Traceback (most recent call last)",
            "\u001b[0;32m<ipython-input-24-ae6e5c10655e>\u001b[0m in \u001b[0;36m<cell line: 1>\u001b[0;34m()\u001b[0m\n\u001b[0;32m----> 1\u001b[0;31m \u001b[0mfile\u001b[0m \u001b[0;34m-\u001b[0m\u001b[0;36m2\u001b[0m\u001b[0;34m\u001b[0m\u001b[0;34m\u001b[0m\u001b[0m\n\u001b[0m\u001b[1;32m      2\u001b[0m \u001b[0;34m\u001b[0m\u001b[0m\n\u001b[1;32m      3\u001b[0m \u001b[0;32mfrom\u001b[0m  \u001b[0mhelloworld\u001b[0m \u001b[0;32mimport\u001b[0m \u001b[0mfun\u001b[0m\u001b[0;34m\u001b[0m\u001b[0;34m\u001b[0m\u001b[0m\n\u001b[1;32m      4\u001b[0m \u001b[0;34m\u001b[0m\u001b[0m\n\u001b[1;32m      5\u001b[0m \u001b[0mfun\u001b[0m\u001b[0;34m(\u001b[0m\u001b[0;36m7\u001b[0m\u001b[0;34m)\u001b[0m\u001b[0;34m\u001b[0m\u001b[0;34m\u001b[0m\u001b[0m\n",
            "\u001b[0;31mNameError\u001b[0m: name 'file' is not defined"
          ]
        }
      ]
    },
    {
      "cell_type": "markdown",
      "source": [
        "Video- 3 Behind the working of python\n",
        "\n",
        "> it also generate bytecode\n",
        "Lifecycle:\n",
        "Python filename.py -> Bytecode -> python VM\n",
        "\n",
        "__pychache__ => works to imported files\n",
        "\n",
        "In Python, the __pycache__ folder is a directory that stores compiled bytecode files (.pyc files) generated from your Python source code (.py files).\n",
        "\n",
        "**Purpose:**\n",
        "\n",
        "__pycache__ folders are created to optimize the execution of your Python programs. This leads to faster startup times for your programs, especially for larger projects.\n",
        "\n",
        "**Creation:**\n",
        "\n",
        "Python automatically creates __pycache__ folders whenever you import a module that hasn't been compiled yet. The compiled bytecode files are stored in these folders for future use.\n",
        "\n",
        "python types: Cpython(standard python) , Jpython , stackless, Pypy"
      ],
      "metadata": {
        "id": "0HfFNYvXmScQ"
      }
    },
    {
      "cell_type": "code",
      "source": [],
      "metadata": {
        "id": "H3JKU1m4mnNU"
      },
      "execution_count": 24,
      "outputs": []
    }
  ]
}